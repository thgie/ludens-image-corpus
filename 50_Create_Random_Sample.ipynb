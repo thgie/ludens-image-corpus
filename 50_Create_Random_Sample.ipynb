{
 "cells": [
  {
   "cell_type": "markdown",
   "id": "493fedfb-2dd1-4c78-81e9-968265494f99",
   "metadata": {},
   "source": [
    "# Samples"
   ]
  },
  {
   "cell_type": "markdown",
   "id": "7ccab944-a297-44b8-901e-f0147645b5ed",
   "metadata": {},
   "source": [
    "## Setup"
   ]
  },
  {
   "cell_type": "code",
   "execution_count": null,
   "id": "6e7e4c5c-2757-4470-a81e-375ace68eda7",
   "metadata": {},
   "outputs": [],
   "source": [
    "# folder setup\n",
    "import os\n",
    "\n",
    "path_screenshots = os.path.abspath(os.getcwd()) + '/screenshots/'\n",
    "path_resized = os.path.abspath(os.getcwd()) + '/resized/'\n",
    "path_samples = os.path.abspath(os.getcwd()) + '/samples/'\n",
    "\n",
    "for folder in [path_screenshots, path_resized, path_samples]:\n",
    "    if not os.path.exists(folder):\n",
    "        os.makedirs(folder)\n",
    "\n",
    "# essentials ...\n",
    "import sys, math\n",
    "def progress_bar(count_value, total):\n",
    "    filled_up_Length = int(math.floor(100 * count_value / total)) + 1\n",
    "    bar = '=' * filled_up_Length + '-' * (100 - filled_up_Length)\n",
    "    sys.stdout.write('[%s]\\r' %(bar))\n",
    "    sys.stdout.flush()\n",
    "\n",
    "def done():\n",
    "    print('\\n\\nDone 👍🏻\\n')"
   ]
  },
  {
   "cell_type": "markdown",
   "id": "e34a06a2-b3b1-48ba-861f-4411d3eb1190",
   "metadata": {},
   "source": [
    "## Resize Images"
   ]
  },
  {
   "cell_type": "code",
   "execution_count": null,
   "id": "ee31d6d4-bf8d-4c1e-8ad9-3d25e18b5744",
   "metadata": {},
   "outputs": [],
   "source": [
    "!cd screenshots\n",
    "!mogrify -resize '2024x2024>' -quality 100 -path ../resized *.png"
   ]
  },
  {
   "cell_type": "markdown",
   "id": "9d035814-1eb7-4d6a-8dc7-4a395f4d6388",
   "metadata": {},
   "source": [
    "## Create Random Sample"
   ]
  },
  {
   "cell_type": "code",
   "execution_count": null,
   "id": "6f9205d1-bf6d-4029-82e8-804bcca973dc",
   "metadata": {},
   "outputs": [],
   "source": [
    "sample_size = 50"
   ]
  },
  {
   "cell_type": "code",
   "execution_count": null,
   "id": "1db55b89-6d20-48d7-b13c-e82945f1ced4",
   "metadata": {},
   "outputs": [],
   "source": [
    "import os, random, shutil\n",
    "\n",
    "if os.path.exists(path_samples):\n",
    "    shutil.rmtree(path_samples)\n",
    "\n",
    "os.makedirs(path_samples)\n",
    "\n",
    "def get_files():\n",
    "    filename = random.choice(os.listdir(path_resized))\n",
    "    return {\n",
    "        'filepath': path_screenshots+filename,\n",
    "        'copypath': path_samples+filename \n",
    "    }\n",
    "\n",
    "for i in range(sample_size):\n",
    "    files = get_files()\n",
    "    while os.path.isfile(files['copypath']):\n",
    "        files = get_files()\n",
    "    shutil.copy(files['filepath'], files['copypath'])\n",
    "\n",
    "    progress_bar(i, sample_size)\n",
    "\n",
    "done()"
   ]
  }
 ],
 "metadata": {
  "kernelspec": {
   "display_name": "Python 3 (ipykernel)",
   "language": "python",
   "name": "python3"
  },
  "language_info": {
   "codemirror_mode": {
    "name": "ipython",
    "version": 3
   },
   "file_extension": ".py",
   "mimetype": "text/x-python",
   "name": "python",
   "nbconvert_exporter": "python",
   "pygments_lexer": "ipython3",
   "version": "3.9.19"
  }
 },
 "nbformat": 4,
 "nbformat_minor": 5
}
