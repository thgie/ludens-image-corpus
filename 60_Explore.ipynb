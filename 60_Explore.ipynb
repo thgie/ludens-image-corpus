{
 "cells": [
  {
   "cell_type": "markdown",
   "id": "a4a2c133-6997-4b82-ba51-6baba2f62d2f",
   "metadata": {},
   "source": [
    "# Cluster\n",
    "\n",
    "Some helpful links:\n",
    "\n",
    "- https://docs.voxel51.com/tutorials/clustering.html\n",
    "- https://docs.voxel51.com/tutorials/dimension_reduction.html"
   ]
  },
  {
   "cell_type": "code",
   "execution_count": null,
   "id": "40d5242a-c4d1-4d18-beae-15417a50ba0e",
   "metadata": {},
   "outputs": [],
   "source": [
    "# folder setup\n",
    "import os\n",
    "path_samples = os.path.abspath(os.getcwd()) + '/screenshots/'\n",
    "\n",
    "# essentials ...\n",
    "import sys, math\n",
    "def progress_bar(count_value, total):\n",
    "    filled_up_Length = int(math.floor(100 * count_value / total)) + 1\n",
    "    bar = '=' * filled_up_Length + '-' * (100 - filled_up_Length)\n",
    "    sys.stdout.write('[%s]\\r' %(bar))\n",
    "    sys.stdout.flush()\n",
    "\n",
    "def done():\n",
    "    print('\\n\\nDone 👍🏻\\n')"
   ]
  },
  {
   "cell_type": "markdown",
   "id": "c39654dd-ffc5-45ed-9281-fb588e2b094c",
   "metadata": {},
   "source": [
    "## Install FiftyOne"
   ]
  },
  {
   "cell_type": "code",
   "execution_count": null,
   "id": "4e054f77-e248-44d5-a70f-66813226a3df",
   "metadata": {
    "scrolled": true
   },
   "outputs": [],
   "source": [
    "!pip uninstall -y opencv-python\n",
    "!pip install -U fiftyone torch torchvision umap-learn scikit-learn\n",
    "!fiftyone plugins download https://github.com/jacobmarks/clustering-plugin"
   ]
  },
  {
   "cell_type": "markdown",
   "id": "c5283f61-37c4-4ae4-8a53-3653507c9ef4",
   "metadata": {},
   "source": [
    "## Prepare Dataset"
   ]
  },
  {
   "cell_type": "code",
   "execution_count": null,
   "id": "21592af4-490f-408d-8851-33d1f3e4cdb5",
   "metadata": {
    "scrolled": true
   },
   "outputs": [],
   "source": [
    "import os, csv, json\n",
    "import fiftyone as fo\n",
    "\n",
    "dataset = fo.Dataset('ludens')\n",
    "\n",
    "# open the wikidata query file to link wikidata_id in filename and csv \n",
    "with open('query.csv') as games_data:\n",
    "\n",
    "    # load reformated mobygames platforms file to get proper platform label\n",
    "    with open('platforms_reformatted.json') as platforms_data:\n",
    "        games_rows = csv.reader(games_data, delimiter=',', quotechar='\"')\n",
    "        games = {}\n",
    "        platforms = json.load(platforms_data)\n",
    "\n",
    "        # save game title and country of origin in tuple\n",
    "        for game in games_rows:\n",
    "            games[game[0].split('/')[-1]] = {\n",
    "                'title': game[1],\n",
    "                'countries': game[4].replace(',', '|') \n",
    "            }\n",
    "\n",
    "        # go through all screenshots in the samples folder\n",
    "        for path, folders, files in os.walk(path_samples):\n",
    "\n",
    "            sample_count = 0\n",
    "            \n",
    "            for screenshot in files:\n",
    "                \n",
    "                filepath = os.path.join(path, screenshot)\n",
    "\n",
    "                wikidata_id = screenshot.split('_')[0]\n",
    "\n",
    "                title = games[wikidata_id]['title']\n",
    "                try:\n",
    "                    platform = platforms[screenshot.split('_')[3]]['platform_name']\n",
    "                except:\n",
    "                    platform = ''\n",
    "                years = screenshot.split('_')[1]\n",
    "                years = years.split('-')\n",
    "                countries = games[wikidata_id]['countries']\n",
    "\n",
    "                sample = fo.Sample(filepath=filepath)\n",
    "\n",
    "                sample['wikidata_id'] = wikidata_id\n",
    "                sample['title'] = title\n",
    "                sample['platform'] = platform\n",
    "                sample['years'] = years\n",
    "                sample['countries'] = countries\n",
    "            \n",
    "                dataset.add_sample(sample)\n",
    "\n",
    "                sample_count += 1\n",
    "                progress_bar(sample_count, len(files))\n",
    "\n",
    "done()\n",
    "print(dataset)"
   ]
  },
  {
   "cell_type": "code",
   "execution_count": null,
   "id": "1a1474b5-a913-4e46-8f06-3ca697d949ab",
   "metadata": {
    "scrolled": true
   },
   "outputs": [],
   "source": [
    "session = fo.launch_app(dataset, auto=False)"
   ]
  },
  {
   "cell_type": "markdown",
   "id": "d14bf6d8-badf-4c7f-ae48-3f3e157078b4",
   "metadata": {},
   "source": [
    "Open [FiftyOne 🔗](http://localhost:5151).\n",
    "\n",
    "### Calculate Embeddings"
   ]
  },
  {
   "cell_type": "code",
   "execution_count": null,
   "id": "1a08815d-ccee-4ea0-b379-fd92711c3f05",
   "metadata": {},
   "outputs": [],
   "source": [
    "import fiftyone.brain as fob\n",
    "import fiftyone.zoo as foz\n",
    "\n",
    "resnet50 = foz.load_zoo_model(\"resnet50-imagenet-torch\")\n",
    "\n",
    "dataset.compute_embeddings(\n",
    "    resnet50,\n",
    "    embeddings_field=\"resnet50_embeddings\"\n",
    ")"
   ]
  },
  {
   "cell_type": "markdown",
   "id": "98952caa-a516-480d-b80e-4da4d07f1430",
   "metadata": {},
   "source": [
    "### Compute Visualisations"
   ]
  },
  {
   "cell_type": "markdown",
   "id": "9d9570c8-97f1-4a22-8049-95fed482d0c0",
   "metadata": {},
   "source": [
    "#### UMAP\n",
    "- default parameters\n",
    "- lower minimal distance and less neighbours to break up global structures\n",
    "- enlargen minimal distance and have more neighbours to pack the vis tighter\n",
    "- [fiftyone.brain.visualization.UMAPVisualizationConfig](https://docs.voxel51.com/api/fiftyone.brain.visualization.html#fiftyone.brain.visualization.UMAPVisualizationConfig)"
   ]
  },
  {
   "cell_type": "code",
   "execution_count": null,
   "id": "f85bf09d-480d-4092-bec6-a431b81558c6",
   "metadata": {},
   "outputs": [],
   "source": [
    "res = fob.compute_visualization(\n",
    "    dataset,\n",
    "    embeddings=\"resnet50_embeddings\",\n",
    "    method=\"umap\",\n",
    "    brain_key=\"resnet50_umap_nn100_vis\",\n",
    "    num_neighbors=100\n",
    ")\n",
    "\n",
    "dataset.set_values(\"resnet50_umap_nn100\", res.current_points)"
   ]
  },
  {
   "cell_type": "code",
   "execution_count": null,
   "id": "cafe8037-2183-4eea-9749-91d17284ac67",
   "metadata": {},
   "outputs": [],
   "source": [
    "res = fob.compute_visualization(\n",
    "    dataset,\n",
    "    embeddings=\"resnet50_embeddings\",\n",
    "    method=\"umap\",\n",
    "    brain_key=\"resnet50_umap_md0001_nn5_vis\",\n",
    "    min_dist=0.001,\n",
    "    num_neighbors=5\n",
    ")\n",
    "\n",
    "dataset.set_values(\"resnet50_umap_md0001_nn5\", res.current_points)"
   ]
  }
 ],
 "metadata": {
  "kernelspec": {
   "display_name": "Python 3 (ipykernel)",
   "language": "python",
   "name": "python3"
  },
  "language_info": {
   "codemirror_mode": {
    "name": "ipython",
    "version": 3
   },
   "file_extension": ".py",
   "mimetype": "text/x-python",
   "name": "python",
   "nbconvert_exporter": "python",
   "pygments_lexer": "ipython3",
   "version": "3.9.19"
  }
 },
 "nbformat": 4,
 "nbformat_minor": 5
}
