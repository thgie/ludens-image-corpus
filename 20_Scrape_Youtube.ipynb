{
 "cells": [
  {
   "cell_type": "markdown",
   "id": "493fedfb-2dd1-4c78-81e9-968265494f99",
   "metadata": {},
   "source": [
    "# Dataset\n",
    "\n",
    "Based on a Wikidata query for video games <= 1990 that have a Mobygames ID (https://w.wiki/AZeT)."
   ]
  },
  {
   "cell_type": "markdown",
   "id": "7ccab944-a297-44b8-901e-f0147645b5ed",
   "metadata": {},
   "source": [
    "## Setup"
   ]
  },
  {
   "cell_type": "code",
   "execution_count": null,
   "id": "6e7e4c5c-2757-4470-a81e-375ace68eda7",
   "metadata": {},
   "outputs": [],
   "source": [
    "# folder setup\n",
    "import os\n",
    "\n",
    "path_youtube = os.path.abspath(os.getcwd()) + '/youtube/'\n",
    "path_screenshots = os.path.abspath(os.getcwd()) + '/screenshots/'\n",
    "path_samples = os.path.abspath(os.getcwd()) + '/samples/'\n",
    "\n",
    "for folder in [path_youtube, path_screenshots, path_samples]:\n",
    "    if not os.path.exists(folder):\n",
    "        os.makedirs(folder)\n",
    "\n",
    "# essentials ...\n",
    "import sys, math\n",
    "def progress_bar(count_value, total):\n",
    "    filled_up_Length = int(math.floor(100 * count_value / total)) + 1\n",
    "    bar = '=' * filled_up_Length + '-' * (100 - filled_up_Length)\n",
    "    sys.stdout.write('[%s]\\r' %(bar))\n",
    "    sys.stdout.flush()\n",
    "\n",
    "def done():\n",
    "    print('\\n\\nDone 👍🏻\\n')"
   ]
  },
  {
   "cell_type": "markdown",
   "id": "b499fdaf-6451-446e-bac5-7e46604e821e",
   "metadata": {},
   "source": [
    "## Youtube"
   ]
  },
  {
   "cell_type": "markdown",
   "id": "7e347427-e728-4999-89a5-991131cc3d1c",
   "metadata": {},
   "source": [
    "### Scrape"
   ]
  },
  {
   "cell_type": "code",
   "execution_count": null,
   "id": "21ec3f0a-28bc-4070-906d-d611f52cd135",
   "metadata": {},
   "outputs": [],
   "source": [
    "!pip install yt-dlp"
   ]
  },
  {
   "cell_type": "code",
   "execution_count": null,
   "id": "d792a556-7a80-49da-a506-20cbd7179a4c",
   "metadata": {
    "scrolled": true
   },
   "outputs": [],
   "source": [
    "import csv, yt_dlp\n",
    "\n",
    "total = 0\n",
    "count = 1\n",
    "\n",
    "ydl_opts = {\n",
    "    'cookies-from-browser': 'firefox'\n",
    "}\n",
    "\n",
    "with open('query.csv') as query_results:\n",
    "\n",
    "    reader = csv.reader(query_results, delimiter=',', quotechar='\"')\n",
    "    next(reader, None)\n",
    "\n",
    "    for row in reader:\n",
    "        if row[6] != '':\n",
    "            for entry in row[6].split(','):\n",
    "                total += 1 \n",
    "\n",
    "with open('query.csv') as query_results:\n",
    "\n",
    "    reader = csv.reader(query_results, delimiter=',', quotechar='\"')\n",
    "\n",
    "    # skip the headers\n",
    "    next(reader, None)\n",
    "\n",
    "    for row in reader:\n",
    "\n",
    "        if row[6] != '':\n",
    "    \n",
    "            entry_count = 1\n",
    "    \n",
    "            for entry in row[6].split(','):\n",
    "                progress_bar(count, total)\n",
    "\n",
    "                ydl_opts['outtmpl'] = path_youtube + row[0].split('/')[-1] + ' ' + '%(title)s'\n",
    "                \n",
    "                with yt_dlp.YoutubeDL(ydl_opts) as ydl:\n",
    "                    ydl.download([entry])\n",
    "                \n",
    "                entry_count += 1\n",
    "\n",
    "                count += 1\n",
    "    \n",
    "done()"
   ]
  },
  {
   "cell_type": "markdown",
   "id": "a0b9ce27-b417-43bb-8d9c-4406cfbdc754",
   "metadata": {},
   "source": [
    "### Rename Videos"
   ]
  },
  {
   "cell_type": "code",
   "execution_count": null,
   "id": "bc373360-6a26-4dad-a38c-1cea06ce808f",
   "metadata": {},
   "outputs": [],
   "source": [
    "import csv, os, re, shutil, slugify\n",
    "\n",
    "for path, folders, files in os.walk(path_youtube):\n",
    "    for filename in files:\n",
    "        wikidata_id = filename.split(' ')[0]\n",
    "\n",
    "        platform = ''\n",
    "\n",
    "        if 'amiga' in filename.lower():\n",
    "            platform = 'amiga'\n",
    "        if 'atari' in filename.lower():\n",
    "            platform = 'atari-st'\n",
    "        if 'dos' in filename.lower():\n",
    "            platform = 'dos'\n",
    "        if 'pc engine' in filename.lower():\n",
    "            platform = 'dos'\n",
    "        if 'spectrum' in filename.lower():\n",
    "            platform = 'zx-spectrum'\n",
    "        if 'c64' in filename.lower():\n",
    "            platform = 'commodore-64'\n",
    "        if 'commodore' in filename.lower():\n",
    "            platform = 'commodore-64'\n",
    "        \n",
    "        with open('query.csv') as query_results:\n",
    "        \n",
    "            reader = csv.reader(query_results, delimiter=',', quotechar='\"')\n",
    "            for row in reader:\n",
    "                row_wikidata_id = row[0].split('/')[-1]\n",
    "\n",
    "                if wikidata_id == row_wikidata_id:\n",
    "                    folder = str(row[1]+' ('+row[2]+') ['+platform+'] '+wikidata_id)\n",
    "                    folder = folder.replace(',', '_')\n",
    "                    folder = folder.replace('/', '_')\n",
    "                    folder = path_youtube+folder\n",
    "\n",
    "                    if not os.path.exists(folder):\n",
    "                        os.makedirs(folder)\n",
    "\n",
    "                    # move and rename file: wikidataID_year-year_title_system_rest\n",
    "                    new_filename = wikidata_id+'_'+row[2].replace(',', '-')+'_'+slugify.slugify(row[1])+'_'+platform+'_'+filename.replace(wikidata_id+' ', '')\n",
    "                    shutil.copy(path_youtube+filename, folder+'/'+new_filename)\n",
    "\n",
    "                    "
   ]
  },
  {
   "cell_type": "markdown",
   "id": "424c9d77-4ed0-4fa6-945d-697523192737",
   "metadata": {},
   "source": [
    "### Generate Stills"
   ]
  },
  {
   "cell_type": "code",
   "execution_count": null,
   "id": "a58004e9-6cf4-4e3b-990a-0ef6c93b8f42",
   "metadata": {},
   "outputs": [],
   "source": [
    "!sudo apt install ffmpeg"
   ]
  },
  {
   "cell_type": "code",
   "execution_count": null,
   "id": "557dec85-f1db-42e4-8b8e-682fee6338ea",
   "metadata": {},
   "outputs": [],
   "source": [
    "import os\n",
    "\n",
    "for folder in os.listdir(path_youtube):\n",
    "    for path, folders, files in os.walk(path_youtube+folder):\n",
    "        for filename in files:\n",
    "            os.system('ffmpeg -i \"'+path_youtube+folder+'/'+filename+'\" -vf fps=1/5 \"'+path_youtube+folder+'/'+filename.split('.')[0]+'-%04d.png\" -nostdin')\n",
    "            os.remove(path_youtube+folder+'/'+filename)"
   ]
  },
  {
   "cell_type": "markdown",
   "id": "4fc61622-4c7c-46be-9c50-ded3c26043c8",
   "metadata": {},
   "source": [
    "### Remove Similar Stills"
   ]
  },
  {
   "cell_type": "code",
   "execution_count": null,
   "id": "f4df9d6f-acf4-44ee-bc7d-b24a65f9efbf",
   "metadata": {},
   "outputs": [],
   "source": [
    "# install similar-images-remover\n",
    "!git clone https://github.com/shashankag14/similar-images-remover.git\n",
    "!pip install -r similar-images-remover/requirements.txt\n",
    "!pip install numpy==1.24.2"
   ]
  },
  {
   "cell_type": "code",
   "execution_count": null,
   "id": "e6ac39ee-a8cf-4d37-b420-33ce880ba9f8",
   "metadata": {},
   "outputs": [],
   "source": [
    "import os\n",
    "\n",
    "threshold = 0.75 # default is 0.85\n",
    "\n",
    "for path, folders, files in os.walk(path_youtube):\n",
    "    for folder in folders:\n",
    "        cmd = os.path.join(os.getcwd(), 'similar-images-remover/similar_images_remover.py --folder_path \"'+path_youtube+folder+'\" --threshold '+str(threshold))\n",
    "        os.system('{} {}'.format('python', cmd))"
   ]
  },
  {
   "cell_type": "markdown",
   "id": "e612e8e9-8d06-4ed2-a878-96ad70fef234",
   "metadata": {},
   "source": [
    "### Copy Stills"
   ]
  },
  {
   "cell_type": "code",
   "execution_count": null,
   "id": "60c95610-42bd-45f8-b02a-8a52a088e2a1",
   "metadata": {},
   "outputs": [],
   "source": [
    "import os, shutil\n",
    "\n",
    "for path, folders, files in os.walk(path_youtube):\n",
    "    for folder in folders:\n",
    "        for file in os.listdir(path_youtube+folder):\n",
    "            shutil.copy(path_youtube+folder+'/'+file, path_screenshots+file)\n"
   ]
  },
  {
   "cell_type": "markdown",
   "id": "398bf08b-6dbd-4ff2-9327-480fa19e6c2b",
   "metadata": {},
   "source": [
    "### Cleanup Similar Remover Process Files"
   ]
  },
  {
   "cell_type": "code",
   "execution_count": null,
   "id": "01f10ac4-7cb2-4d14-8718-33468ee7efdc",
   "metadata": {},
   "outputs": [],
   "source": [
    "!rm preprocessed_*.png\n",
    "!rm similar_images_*.txt\n",
    "!rm -rf removed_images"
   ]
  },
  {
   "cell_type": "code",
   "execution_count": null,
   "id": "e556d88e-82b3-40f2-983b-99eb71904f9b",
   "metadata": {},
   "outputs": [],
   "source": [
    "import os, shutil\n",
    "\n",
    "for path, folders, files in os.walk(path_youtube):\n",
    "    for folder in folders:\n",
    "        shutil.rmtree(path_youtube+folder)"
   ]
  }
 ],
 "metadata": {
  "kernelspec": {
   "display_name": "Python 3 (ipykernel)",
   "language": "python",
   "name": "python3"
  },
  "language_info": {
   "codemirror_mode": {
    "name": "ipython",
    "version": 3
   },
   "file_extension": ".py",
   "mimetype": "text/x-python",
   "name": "python",
   "nbconvert_exporter": "python",
   "pygments_lexer": "ipython3",
   "version": "3.9.19"
  }
 },
 "nbformat": 4,
 "nbformat_minor": 5
}
